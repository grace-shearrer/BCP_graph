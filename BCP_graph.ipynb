{
 "cells": [
  {
   "cell_type": "markdown",
   "metadata": {},
   "source": [
    "# PEAS Meal Networks Analysis"
   ]
  },
  {
   "cell_type": "markdown",
   "metadata": {},
   "source": [
    "# Set up\n",
    "This notebook requires several modules. If you do not have them run the cell below, else skip"
   ]
  },
  {
   "cell_type": "markdown",
   "metadata": {},
   "source": [
    "## Load in the necessary libraries/packages/modules"
   ]
  },
  {
   "cell_type": "code",
   "execution_count": 4,
   "metadata": {},
   "outputs": [
    {
     "name": "stdout",
     "output_type": "stream",
     "text": [
      "Collecting python-louvain\n",
      "  Downloading https://files.pythonhosted.org/packages/96/b2/c74bb9023c8d4bf94f5049e3d705b3064c6f180a38d772055d20ba5a8d06/python-louvain-0.13.tar.gz\n",
      "Requirement already satisfied: networkx in /opt/conda/lib/python3.7/site-packages (from python-louvain) (2.3)\n",
      "Requirement already satisfied: decorator>=4.3.0 in /opt/conda/lib/python3.7/site-packages (from networkx->python-louvain) (4.4.0)\n",
      "Building wheels for collected packages: python-louvain\n",
      "  Building wheel for python-louvain (setup.py) ... \u001b[?25ldone\n",
      "\u001b[?25h  Created wheel for python-louvain: filename=python_louvain-0.13-cp37-none-any.whl size=9223 sha256=dc850a8940fe6c2667d973910ba28a4d53409404dfb493dc7910167f1dedfc92\n",
      "  Stored in directory: /home/jovyan/.cache/pip/wheels/f9/74/a9/14f051b00dddd46d71529db15507796da13a43ee2c0bc39def\n",
      "Successfully built python-louvain\n",
      "Installing collected packages: python-louvain\n",
      "Successfully installed python-louvain-0.13\n"
     ]
    }
   ],
   "source": [
    "! pip install  python-louvain --user\n",
    "\n"
   ]
  },
  {
   "cell_type": "code",
   "execution_count": 77,
   "metadata": {
    "scrolled": true
   },
   "outputs": [],
   "source": [
    "import os\n",
    "import networkx as nx\n",
    "import numpy as np\n",
    "import pandas as pd\n",
    "import glob\n",
    "import community\n",
    "import pdb\n",
    "\n",
    "import matplotlib.pyplot as plt\n",
    "\n",
    "\n",
    "from scipy import linalg\n",
    "from sklearn.covariance import GraphLassoCV\n",
    "from sklearn import covariance, preprocessing\n"
   ]
  },
  {
   "cell_type": "code",
   "execution_count": 12,
   "metadata": {},
   "outputs": [],
   "source": [
    "basepath='/home/jovyan/work/data'"
   ]
  },
  {
   "cell_type": "markdown",
   "metadata": {},
   "source": [
    "## Read in the data"
   ]
  },
  {
   "cell_type": "code",
   "execution_count": 13,
   "metadata": {},
   "outputs": [],
   "source": [
    "file_dict={'infant': {}, 'young':{},'child':{},'mom':{}}"
   ]
  },
  {
   "cell_type": "code",
   "execution_count": 14,
   "metadata": {},
   "outputs": [],
   "source": [
    "file_dict[\"mom\"][\"files\"] = [x for x in glob.glob(os.path.join(basepath,'*HEI.csv')) if \"Mom\" in x]\n",
    "file_dict[\"infant\"][\"files\"] = [x for x in glob.glob(os.path.join(basepath,'*HEI.csv')) if \"infant\" in x]\n",
    "file_dict[\"young\"][\"files\"] = [x for x in glob.glob(os.path.join(basepath,'*HEI.csv')) if \"young\" in x]\n",
    "file_dict[\"child\"][\"files\"] = [x for x in glob.glob(os.path.join(basepath,'*HEI.csv')) if \"child\" in x]"
   ]
  },
  {
   "cell_type": "code",
   "execution_count": 15,
   "metadata": {},
   "outputs": [
    {
     "data": {
      "text/plain": [
       "{'infant': {'files': ['/home/jovyan/work/data/DF_infant_infant_HEI.csv']},\n",
       " 'young': {'files': ['/home/jovyan/work/data/DF_young_young_HEI.csv']},\n",
       " 'child': {'files': ['/home/jovyan/work/data/DF_child_child_HEI.csv']},\n",
       " 'mom': {'files': ['/home/jovyan/work/data/Mom_dailyhei0409_HEI.csv',\n",
       "   '/home/jovyan/work/data/Mom_hei0409_HEI.csv']}}"
      ]
     },
     "execution_count": 15,
     "metadata": {},
     "output_type": "execute_result"
    }
   ],
   "source": [
    "file_dict"
   ]
  },
  {
   "cell_type": "code",
   "execution_count": 16,
   "metadata": {},
   "outputs": [],
   "source": [
    "data_dict={'infant': {}, 'young':{},'child':{},'mom':{}}"
   ]
  },
  {
   "cell_type": "code",
   "execution_count": 17,
   "metadata": {},
   "outputs": [],
   "source": [
    "for key, value in file_dict.items():\n",
    "    for dat in value['files']:\n",
    "        subkey=dat.split('/')[-1].split('.')[0]\n",
    "        data_dict[key][subkey]=pd.read_csv(dat,sep=',')"
   ]
  },
  {
   "cell_type": "markdown",
   "metadata": {},
   "source": [
    "# Make correlations"
   ]
  },
  {
   "cell_type": "code",
   "execution_count": null,
   "metadata": {},
   "outputs": [],
   "source": [
    "corr_dict={'infant': {}, 'young':{},'child':{},'mom':{}}"
   ]
  },
  {
   "cell_type": "code",
   "execution_count": null,
   "metadata": {
    "scrolled": true
   },
   "outputs": [],
   "source": [
    "for key, value in data_dict.items():\n",
    "    for k, data in value.items():\n",
    "        lw_cov_, _ = ledoit_wolf(data)\n",
    "        lw_prec_ = linalg.inv(lw_cov_)\n"
   ]
  },
  {
   "cell_type": "code",
   "execution_count": 61,
   "metadata": {},
   "outputs": [],
   "source": [
    "X=data_dict['child']['DF_child_child_HEI'][\n",
    "    ['hei_totveg','hei_greensbeans','hei_totfruit','hei_wholefruit','hei_wholegrains','hei_dairy','hei_totproteins','hei_seafoodplantprot','hei_refinedgrains','hei_fruitjuice','hei_SSB','chocolate_candies','candies','frosting','sweet_sauce','sugar','syrups','Pudding','icecream','nondairy_treat','baked_good','chips','fries','other_fried','formula_foz','cereal_oz','bbcereal_hcup','hei_sweets','hei_salty','hei_vegetables','hei_proteins','hei_milk','hei_cereal']]"
   ]
  },
  {
   "cell_type": "code",
   "execution_count": 62,
   "metadata": {},
   "outputs": [],
   "source": [
    "X=X.loc[:, (X != 0).any(axis=0)]"
   ]
  },
  {
   "cell_type": "markdown",
   "metadata": {},
   "source": [
    "After normalizing your input data, the eigenvalues of your empirical covariance matrix still span a relatively large range of about [0-8]. Shrinking this using the sklearn.covariance.shrunk_covariance() function can bring it into a more computationally acceptable range (from what I've read, [0,1] is ideal but slgihtly larger ranges also appear to work).  \n",
    "https://stats.stackexchange.com/questions/172911/graphical-lasso-numerical-problem-not-spd-matrix-result"
   ]
  },
  {
   "cell_type": "code",
   "execution_count": 63,
   "metadata": {},
   "outputs": [
    {
     "name": "stdout",
     "output_type": "stream",
     "text": [
      "Calculated graph-lasso covariance matrix for alpha=1e-08\n",
      "Calculated graph-lasso covariance matrix for alpha=1e-07\n",
      "Calculated graph-lasso covariance matrix for alpha=1e-06\n",
      "Calculated graph-lasso covariance matrix for alpha=1e-05\n",
      "Calculated graph-lasso covariance matrix for alpha=0.0001\n",
      "Calculated graph-lasso covariance matrix for alpha=0.001\n",
      "Calculated graph-lasso covariance matrix for alpha=0.01\n",
      "Calculated graph-lasso covariance matrix for alpha=0.1\n"
     ]
    }
   ],
   "source": [
    "\n",
    "X = X.values.astype('float64')\n",
    "myScaler = preprocessing.StandardScaler()\n",
    "X = myScaler.fit_transform(X)\n",
    "emp_cov = covariance.empirical_covariance(X)\n",
    "shrunk_cov = covariance.shrunk_covariance(emp_cov, shrinkage=0.9) # Set shrinkage closer to 1 for poorly-conditioned data\n",
    "\n",
    "alphaRange = 10.0 ** np.arange(-8,0) # 1e-7 to 1e-1 by order of magnitude\n",
    "for alpha in alphaRange:\n",
    "    try: \n",
    "        graphCov = covariance.graph_lasso(shrunk_cov, alpha)\n",
    "        print(\"Calculated graph-lasso covariance matrix for alpha=%s\"%alpha)\n",
    "    except FloatingPointError:\n",
    "        print(\"Failed at alpha=%s\"%alpha)"
   ]
  },
  {
   "cell_type": "code",
   "execution_count": 69,
   "metadata": {},
   "outputs": [
    {
     "name": "stderr",
     "output_type": "stream",
     "text": [
      "/opt/conda/lib/python3.6/site-packages/sklearn/covariance/graph_lasso_.py:228: RuntimeWarning: divide by zero encountered in double_scalars\n",
      "  - np.dot(covariance_[indices != idx, idx], coefs)))\n",
      "/opt/conda/lib/python3.6/site-packages/sklearn/covariance/graph_lasso_.py:230: RuntimeWarning: invalid value encountered in multiply\n",
      "  * coefs)\n",
      "/opt/conda/lib/python3.6/site-packages/sklearn/covariance/graph_lasso_.py:232: RuntimeWarning: invalid value encountered in multiply\n",
      "  * coefs)\n",
      "/opt/conda/lib/python3.6/site-packages/sklearn/covariance/graph_lasso_.py:51: RuntimeWarning: invalid value encountered in multiply\n",
      "  gap = np.sum(emp_cov * precision_)\n",
      "/opt/conda/lib/python3.6/site-packages/sklearn/covariance/graph_lasso_.py:54: RuntimeWarning: invalid value encountered in absolute\n",
      "  - np.abs(np.diag(precision_)).sum())\n",
      "/opt/conda/lib/python3.6/site-packages/sklearn/covariance/empirical_covariance_.py:43: RuntimeWarning: invalid value encountered in multiply\n",
      "  log_likelihood_ = - np.sum(emp_cov * precision) + fast_logdet(precision)\n",
      "/opt/conda/lib/python3.6/site-packages/numpy/linalg/linalg.py:1757: RuntimeWarning: invalid value encountered in slogdet\n",
      "  sign, logdet = _umath_linalg.slogdet(a, signature=signature)\n",
      "/opt/conda/lib/python3.6/site-packages/sklearn/covariance/graph_lasso_.py:41: RuntimeWarning: invalid value encountered in absolute\n",
      "  - np.abs(np.diag(precision_)).sum())\n",
      "/opt/conda/lib/python3.6/site-packages/sklearn/covariance/graph_lasso_.py:244: RuntimeWarning: invalid value encountered in absolute\n",
      "  if np.abs(d_gap) < tol:\n"
     ]
    }
   ],
   "source": [
    "from sklearn.covariance import ledoit_wolf\n",
    "\n",
    "model = GraphLassoCV(alphas=[10,15,20,25], cv=5)\n",
    "model.fit(X)\n",
    "\n",
    "cov_ = model.covariance_\n",
    "prec_ = model.precision_\n",
    "al_ = model.alpha_\n",
    "\n",
    "lw_cov_, _ = ledoit_wolf(X)\n",
    "lw_prec_ = linalg.inv(lw_cov_)\n"
   ]
  },
  {
   "cell_type": "code",
   "execution_count": 75,
   "metadata": {},
   "outputs": [
    {
     "data": {
      "text/plain": [
       "(26, 26)"
      ]
     },
     "execution_count": 75,
     "metadata": {},
     "output_type": "execute_result"
    }
   ],
   "source": [
    "lw_cov_.shape"
   ]
  },
  {
   "cell_type": "code",
   "execution_count": 76,
   "metadata": {},
   "outputs": [
    {
     "ename": "AttributeError",
     "evalue": "'GraphLassoCV' object has no attribute 'grid_scores_'",
     "output_type": "error",
     "traceback": [
      "\u001b[0;31m---------------------------------------------------------------------------\u001b[0m",
      "\u001b[0;31mAttributeError\u001b[0m                            Traceback (most recent call last)",
      "\u001b[0;32m<ipython-input-76-75fa5cbb3678>\u001b[0m in \u001b[0;36m<module>\u001b[0;34m()\u001b[0m\n\u001b[1;32m     36\u001b[0m \u001b[0mplt\u001b[0m\u001b[0;34m.\u001b[0m\u001b[0mfigure\u001b[0m\u001b[0;34m(\u001b[0m\u001b[0mfigsize\u001b[0m\u001b[0;34m=\u001b[0m\u001b[0;34m(\u001b[0m\u001b[0;36m4\u001b[0m\u001b[0;34m,\u001b[0m \u001b[0;36m3\u001b[0m\u001b[0;34m)\u001b[0m\u001b[0;34m)\u001b[0m\u001b[0;34m\u001b[0m\u001b[0m\n\u001b[1;32m     37\u001b[0m \u001b[0mplt\u001b[0m\u001b[0;34m.\u001b[0m\u001b[0maxes\u001b[0m\u001b[0;34m(\u001b[0m\u001b[0;34m[\u001b[0m\u001b[0;36m.2\u001b[0m\u001b[0;34m,\u001b[0m \u001b[0;36m.15\u001b[0m\u001b[0;34m,\u001b[0m \u001b[0;36m.75\u001b[0m\u001b[0;34m,\u001b[0m \u001b[0;36m.7\u001b[0m\u001b[0;34m]\u001b[0m\u001b[0;34m)\u001b[0m\u001b[0;34m\u001b[0m\u001b[0m\n\u001b[0;32m---> 38\u001b[0;31m \u001b[0mplt\u001b[0m\u001b[0;34m.\u001b[0m\u001b[0mplot\u001b[0m\u001b[0;34m(\u001b[0m\u001b[0mmodel\u001b[0m\u001b[0;34m.\u001b[0m\u001b[0mcv_alphas_\u001b[0m\u001b[0;34m,\u001b[0m \u001b[0mnp\u001b[0m\u001b[0;34m.\u001b[0m\u001b[0mmean\u001b[0m\u001b[0;34m(\u001b[0m\u001b[0mmodel\u001b[0m\u001b[0;34m.\u001b[0m\u001b[0mgrid_scores_\u001b[0m\u001b[0;34m,\u001b[0m \u001b[0maxis\u001b[0m\u001b[0;34m=\u001b[0m\u001b[0;36m1\u001b[0m\u001b[0;34m)\u001b[0m\u001b[0;34m,\u001b[0m \u001b[0;34m'o-'\u001b[0m\u001b[0;34m)\u001b[0m\u001b[0;34m\u001b[0m\u001b[0m\n\u001b[0m\u001b[1;32m     39\u001b[0m \u001b[0mplt\u001b[0m\u001b[0;34m.\u001b[0m\u001b[0maxvline\u001b[0m\u001b[0;34m(\u001b[0m\u001b[0mmodel\u001b[0m\u001b[0;34m.\u001b[0m\u001b[0malpha_\u001b[0m\u001b[0;34m,\u001b[0m \u001b[0mcolor\u001b[0m\u001b[0;34m=\u001b[0m\u001b[0;34m'.5'\u001b[0m\u001b[0;34m)\u001b[0m\u001b[0;34m\u001b[0m\u001b[0m\n\u001b[1;32m     40\u001b[0m \u001b[0mplt\u001b[0m\u001b[0;34m.\u001b[0m\u001b[0mtitle\u001b[0m\u001b[0;34m(\u001b[0m\u001b[0;34m'Model selection'\u001b[0m\u001b[0;34m)\u001b[0m\u001b[0;34m\u001b[0m\u001b[0m\n",
      "\u001b[0;31mAttributeError\u001b[0m: 'GraphLassoCV' object has no attribute 'grid_scores_'"
     ]
    },
    {
     "data": {
      "image/png": "[encoded data removed]",
      "text/plain": [
       "<Figure size 720x432 with 4 Axes>"
      ]
     },
     "metadata": {},
     "output_type": "display_data"
    },
    {
     "data": {
      "image/png": "[encoded data removed]",
      "text/plain": [
       "<Figure size 288x216 with 1 Axes>"
      ]
     },
     "metadata": {},
     "output_type": "display_data"
    }
   ],
   "source": [
    "# Plot the results\n",
    "plt.figure(figsize=(10, 6))\n",
    "plt.subplots_adjust(left=0.02, right=0.98)\n",
    "\n",
    "# plot the covariances\n",
    "covs = [('Ledoit-Wolf', lw_cov_),\n",
    "        ('GraphicalLassoCV', cov_)]\n",
    "vmax = cov_.max()\n",
    "for i, (name, this_cov) in enumerate(covs):\n",
    "    plt.subplot(2, 4, i + 1)\n",
    "    plt.imshow(this_cov, interpolation='nearest', vmin=-vmax, vmax=vmax,\n",
    "               cmap=plt.cm.RdBu_r)\n",
    "    plt.xticks(())\n",
    "    plt.yticks(())\n",
    "    plt.title('%s covariance' % name)\n",
    "\n",
    "\n",
    "# plot the precisions\n",
    "precs = [ ('Ledoit-Wolf', lw_prec_),\n",
    "         ('GraphicalLasso', prec_)]\n",
    "vmax = .9 * prec_.max()\n",
    "for i, (name, this_prec) in enumerate(precs):\n",
    "    ax = plt.subplot(2, 4, i + 5)\n",
    "    plt.imshow(np.ma.masked_equal(this_prec, 0),\n",
    "               interpolation='nearest', vmin=-vmax, vmax=vmax,\n",
    "               cmap=plt.cm.RdBu_r)\n",
    "    plt.xticks(())\n",
    "    plt.yticks(())\n",
    "    plt.title('%s precision' % name)\n",
    "    if hasattr(ax, 'set_facecolor'):\n",
    "        ax.set_facecolor('.7')\n",
    "    else:\n",
    "        ax.set_axis_bgcolor('.7')\n",
    "\n",
    "# plot the model selection metric\n",
    "plt.figure(figsize=(4, 3))\n",
    "plt.axes([.2, .15, .75, .7])\n",
    "plt.plot(model.cv_alphas_, np.mean(model.grid_scores_, axis=1), 'o-')\n",
    "plt.axvline(model.alpha_, color='.5')\n",
    "plt.title('Model selection')\n",
    "plt.ylabel('Cross-validation score')\n",
    "plt.xlabel('alpha')\n",
    "\n",
    "plt.show()"
   ]
  },
  {
   "cell_type": "markdown",
   "metadata": {},
   "source": [
    "## This is making a dictionary with the food options for networkX"
   ]
  },
  {
   "cell_type": "code",
   "execution_count": null,
   "metadata": {},
   "outputs": [],
   "source": [
    "labels = data.index\n",
    "labels_dict = {}\n",
    "n=0\n",
    "for item in labels:\n",
    "    labels_dict[n]=item\n",
    "    n=n+1"
   ]
  },
  {
   "cell_type": "markdown",
   "metadata": {},
   "source": [
    "# Creating the graph object"
   ]
  },
  {
   "cell_type": "code",
   "execution_count": null,
   "metadata": {},
   "outputs": [],
   "source": [
    "G = nx.from_numpy_matrix(data.values)"
   ]
  },
  {
   "cell_type": "markdown",
   "metadata": {},
   "source": [
    "## Check edges"
   ]
  },
  {
   "cell_type": "code",
   "execution_count": null,
   "metadata": {},
   "outputs": [],
   "source": [
    "G.edges(data=True)"
   ]
  },
  {
   "cell_type": "markdown",
   "metadata": {},
   "source": [
    "## Set node attributes with the food data"
   ]
  },
  {
   "cell_type": "code",
   "execution_count": null,
   "metadata": {},
   "outputs": [],
   "source": [
    "nx.set_node_attributes(G,labels_dict,'food')"
   ]
  },
  {
   "cell_type": "markdown",
   "metadata": {},
   "source": [
    "## Check nodes"
   ]
  },
  {
   "cell_type": "code",
   "execution_count": null,
   "metadata": {},
   "outputs": [],
   "source": [
    "G.nodes(data=True)"
   ]
  },
  {
   "cell_type": "markdown",
   "metadata": {},
   "source": [
    "# Make a nice graph\n",
    "The output you made can be made with edge weights using the 'spring' option "
   ]
  },
  {
   "cell_type": "code",
   "execution_count": null,
   "metadata": {},
   "outputs": [],
   "source": [
    "def create_corr_network(G, *argv):\n",
    "    # creates a list for edges and for the weights\n",
    "    # G must be a networkx graph object\n",
    "    # Style = Choice of graph = circle, spring, spectral\n",
    "    \n",
    "    edges,weights = zip(*nx.get_edge_attributes(G,'weight').items())\n",
    "    \n",
    "    \n",
    "    #positions\n",
    "    if len(argv) != 0:\n",
    "        for arg in argv:\n",
    "            print(\"Making %s graph\"%arg)\n",
    "            if arg == \"circle\":\n",
    "                positions=nx.circular_layout(G)\n",
    "            elif arg == \"spring\":\n",
    "                positions=nx.spring_layout(G)\n",
    "            elif arg == \"spectral\":\n",
    "            \n",
    "                positions=nx.spectral_layout(G)\n",
    "    else:\n",
    "        positions=nx.circular_layout(G)\n",
    "\n",
    "    #Figure size\n",
    "    plt.figure(figsize=(15,15))\n",
    "\n",
    "    #draws nodes\n",
    "    nx.draw_networkx_nodes(G,positions,node_color='#DA70D6',\n",
    "                           node_size=500,alpha=0.8)\n",
    "    labels=dict(G.nodes(data=True))\n",
    "    #Styling for labels\n",
    "    \n",
    "    \n",
    "    nx.draw_networkx_labels(G,positions,labels, font_size=8, \n",
    "                            font_family='sans-serif')\n",
    "        \n",
    "    #draws the edges\n",
    "    vmin = min(weights)\n",
    "    vmax = max(weights)\n",
    "    \n",
    "    w=np.array(weights)*10\n",
    "    nx.draw_networkx_edges(G, positions, edge_list=edges, style='solid', width= w, edge_color= weights, \n",
    "                           edge_cmap=plt.cm.seismic, vmin=vmin, vmax=vmax)\n",
    "    \n",
    "    # displays the graph without axis\n",
    "    plt.axis('off')\n",
    "    #saves image\n",
    "    #plt.savefig(\"part1.png\", format=\"PNG\")\n",
    "    sm = plt.cm.ScalarMappable(cmap=plt.cm.seismic, norm=plt.Normalize(vmin = vmin, vmax=vmax))\n",
    "    sm._A = []\n",
    "    plt.colorbar(sm)\n",
    "    plt.show() "
   ]
  },
  {
   "cell_type": "code",
   "execution_count": null,
   "metadata": {},
   "outputs": [],
   "source": [
    "create_corr_network(G, 'spring')"
   ]
  },
  {
   "cell_type": "markdown",
   "metadata": {},
   "source": [
    "# Next steps\n",
    "If you have a regular structure for directories I can write a function that will pick up the csv files and run all of this at once. This is a general tutorial. As we get closer to publication we can make the graphs pretty. The next things to consider are graph metrics. I recommend modularity, participation coefficient, and clustering coefficient. "
   ]
  },
  {
   "cell_type": "code",
   "execution_count": null,
   "metadata": {},
   "outputs": [],
   "source": []
  }
 ],
 "metadata": {
  "kernelspec": {
   "display_name": "Python 3",
   "language": "python",
   "name": "python3"
  },
  "language_info": {
   "codemirror_mode": {
    "name": "ipython",
    "version": 3
   },
   "file_extension": ".py",
   "mimetype": "text/x-python",
   "name": "python",
   "nbconvert_exporter": "python",
   "pygments_lexer": "ipython3",
   "version": "3.6.5"
  }
 },
 "nbformat": 4,
 "nbformat_minor": 4
}
