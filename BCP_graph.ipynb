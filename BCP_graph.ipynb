{
 "cells": [
  {
   "cell_type": "markdown",
   "metadata": {},
   "source": [
    "# PEAS Meal Networks Analysis"
   ]
  },
  {
   "cell_type": "markdown",
   "metadata": {},
   "source": [
    "# Set up\n",
    "This notebook requires several modules. If you do not have them run the cell below, else skip"
   ]
  },
  {
   "cell_type": "markdown",
   "metadata": {},
   "source": [
    "## Load in the necessary libraries/packages/modules"
   ]
  },
  {
   "cell_type": "code",
   "execution_count": 4,
   "metadata": {},
   "outputs": [
    {
     "name": "stdout",
     "output_type": "stream",
     "text": [
      "Collecting python-louvain\n",
      "  Downloading https://files.pythonhosted.org/packages/96/b2/c74bb9023c8d4bf94f5049e3d705b3064c6f180a38d772055d20ba5a8d06/python-louvain-0.13.tar.gz\n",
      "Requirement already satisfied: networkx in /opt/conda/lib/python3.7/site-packages (from python-louvain) (2.3)\n",
      "Requirement already satisfied: decorator>=4.3.0 in /opt/conda/lib/python3.7/site-packages (from networkx->python-louvain) (4.4.0)\n",
      "Building wheels for collected packages: python-louvain\n",
      "  Building wheel for python-louvain (setup.py) ... \u001b[?25ldone\n",
      "\u001b[?25h  Created wheel for python-louvain: filename=python_louvain-0.13-cp37-none-any.whl size=9223 sha256=dc850a8940fe6c2667d973910ba28a4d53409404dfb493dc7910167f1dedfc92\n",
      "  Stored in directory: /home/jovyan/.cache/pip/wheels/f9/74/a9/14f051b00dddd46d71529db15507796da13a43ee2c0bc39def\n",
      "Successfully built python-louvain\n",
      "Installing collected packages: python-louvain\n",
      "Successfully installed python-louvain-0.13\n"
     ]
    }
   ],
   "source": [
    "! pip install  python-louvain --user\n",
    "\n"
   ]
  },
  {
   "cell_type": "code",
   "execution_count": 77,
   "metadata": {
    "scrolled": true
   },
   "outputs": [],
   "source": [
    "import os\n",
    "import networkx as nx\n",
    "import numpy as np\n",
    "import pandas as pd\n",
    "import glob\n",
    "import community\n",
    "import pdb\n",
    "\n",
    "import matplotlib.pyplot as plt\n",
    "\n",
    "\n",
    "from scipy import linalg\n",
    "from sklearn.covariance import GraphLassoCV\n",
    "from sklearn import covariance, preprocessing\n"
   ]
  },
  {
   "cell_type": "code",
   "execution_count": 12,
   "metadata": {},
   "outputs": [],
   "source": [
    "basepath='/home/jovyan/work/data'"
   ]
  },
  {
   "cell_type": "markdown",
   "metadata": {},
   "source": [
    "## Read in the data"
   ]
  },
  {
   "cell_type": "code",
   "execution_count": 13,
   "metadata": {},
   "outputs": [],
   "source": [
    "file_dict={'infant': {}, 'young':{},'child':{},'mom':{}}"
   ]
  },
  {
   "cell_type": "code",
   "execution_count": 14,
   "metadata": {},
   "outputs": [],
   "source": [
    "file_dict[\"mom\"][\"files\"] = [x for x in glob.glob(os.path.join(basepath,'*HEI.csv')) if \"Mom\" in x]\n",
    "file_dict[\"infant\"][\"files\"] = [x for x in glob.glob(os.path.join(basepath,'*HEI.csv')) if \"infant\" in x]\n",
    "file_dict[\"young\"][\"files\"] = [x for x in glob.glob(os.path.join(basepath,'*HEI.csv')) if \"young\" in x]\n",
    "file_dict[\"child\"][\"files\"] = [x for x in glob.glob(os.path.join(basepath,'*HEI.csv')) if \"child\" in x]"
   ]
  },
  {
   "cell_type": "code",
   "execution_count": 15,
   "metadata": {},
   "outputs": [
    {
     "data": {
      "text/plain": [
       "{'infant': {'files': ['/home/jovyan/work/data/DF_infant_infant_HEI.csv']},\n",
       " 'young': {'files': ['/home/jovyan/work/data/DF_young_young_HEI.csv']},\n",
       " 'child': {'files': ['/home/jovyan/work/data/DF_child_child_HEI.csv']},\n",
       " 'mom': {'files': ['/home/jovyan/work/data/Mom_dailyhei0409_HEI.csv',\n",
       "   '/home/jovyan/work/data/Mom_hei0409_HEI.csv']}}"
      ]
     },
     "execution_count": 15,
     "metadata": {},
     "output_type": "execute_result"
    }
   ],
   "source": [
    "file_dict"
   ]
  },
  {
   "cell_type": "code",
   "execution_count": 16,
   "metadata": {},
   "outputs": [],
   "source": [
    "data_dict={'infant': {}, 'young':{},'child':{},'mom':{}}"
   ]
  },
  {
   "cell_type": "code",
   "execution_count": 17,
   "metadata": {},
   "outputs": [],
   "source": [
    "for key, value in file_dict.items():\n",
    "    for dat in value['files']:\n",
    "        subkey=dat.split('/')[-1].split('.')[0]\n",
    "        data_dict[key][subkey]=pd.read_csv(dat,sep=',')"
   ]
  },
  {
   "cell_type": "markdown",
   "metadata": {},
   "source": [
    "# Make correlations"
   ]
  },
  {
   "cell_type": "code",
   "execution_count": 99,
   "metadata": {},
   "outputs": [],
   "source": []
  },
  {
   "cell_type": "code",
   "execution_count": 78,
   "metadata": {},
   "outputs": [],
   "source": [
    "child_var = ['hei_totveg','hei_greensbeans','hei_totfruit','hei_wholefruit',\n",
    "     'hei_wholegrains','hei_dairy','hei_totproteins','hei_seafoodplantprot',\n",
    "     'hei_refinedgrains','hei_fruitjuice','hei_SSB','chocolate_candies','candies',\n",
    "     'frosting','sweet_sauce','sugar','syrups','Pudding','icecream','nondairy_treat','baked_good',\n",
    "     'chips','fries','other_fried','formula_foz','cereal_oz','bbcereal_hcup','hei_sweets','hei_salty',\n",
    "     'hei_vegetables','hei_proteins','hei_milk','hei_cereal']"
   ]
  },
  {
   "cell_type": "code",
   "execution_count": 80,
   "metadata": {},
   "outputs": [],
   "source": [
    "mom_var=['energy','HEIX1_TOTALVEG','HEIX2_GREEN_AND_BEAN','HEIX3_TOTALFRUIT','HEIX4_WHOLEFRUIT','HEIX5_WHOLEGRAIN','HEIX6_TOTALDAIRY','HEIX7_TOTPROT','HEIX8_SEAPLANT_PROT','HEIX11_REFINEDGRAIN','HEIX12_ADDEDSUGARS','HEIX13_SATFATS','HEIX9_FATTYACID','HEIX10_SODIUM']"
   ]
  },
  {
   "cell_type": "code",
   "execution_count": 81,
   "metadata": {},
   "outputs": [],
   "source": [
    "infant_var=['formula_foz', 'hei_milk', 'HEIX0_BREASTFEEDING', '% Calories from Carbohydrate', '% Calories from Fat','% Calories from MUFA','% Calories from PUFA','% Calories from Protein','% Calories from SFA']"
   ]
  },
  {
   "cell_type": "code",
   "execution_count": 171,
   "metadata": {},
   "outputs": [],
   "source": [
    "vars_of_interest = {'mom': mom_var, 'child':child_var , 'young':infant_var , 'infant': infant_var}"
   ]
  },
  {
   "cell_type": "code",
   "execution_count": 174,
   "metadata": {},
   "outputs": [],
   "source": [
    "def scaley(X):\n",
    "    X=X.loc[:, (X != 0).any(axis=0)]\n",
    "    X = X.values.astype('float64')\n",
    "    myScaler = preprocessing.StandardScaler()\n",
    "    X = myScaler.fit_transform(X)\n",
    "    emp_cov = covariance.empirical_covariance(X)\n",
    "    shrunk_cov = covariance.shrunk_covariance(emp_cov, shrinkage=0.9) # Set shrinkage closer to 1 for poorly-conditioned data\n",
    "    alphaRange = 10.0 ** np.arange(-8,0) # 1e-7 to 1e-1 by order of magnitude\n",
    "    for alpha in alphaRange:\n",
    "        try: \n",
    "            graphCov = covariance.graph_lasso(shrunk_cov, alpha)\n",
    "            print(\"Calculated graph-lasso covariance matrix for alpha=%s\"%alpha)\n",
    "        except FloatingPointError:\n",
    "            print(\"Failed at alpha=%s\"%alpha)\n",
    "    return(X)"
   ]
  },
  {
   "cell_type": "code",
   "execution_count": 176,
   "metadata": {},
   "outputs": [
    {
     "name": "stdout",
     "output_type": "stream",
     "text": [
      "infant\n",
      "Calculated graph-lasso covariance matrix for alpha=1e-08\n",
      "Calculated graph-lasso covariance matrix for alpha=1e-07\n",
      "Calculated graph-lasso covariance matrix for alpha=1e-06\n",
      "Calculated graph-lasso covariance matrix for alpha=1e-05\n",
      "Calculated graph-lasso covariance matrix for alpha=0.0001\n",
      "Calculated graph-lasso covariance matrix for alpha=0.001\n",
      "Calculated graph-lasso covariance matrix for alpha=0.01\n",
      "Calculated graph-lasso covariance matrix for alpha=0.1\n",
      "young\n",
      "Calculated graph-lasso covariance matrix for alpha=1e-08\n",
      "Calculated graph-lasso covariance matrix for alpha=1e-07\n",
      "Calculated graph-lasso covariance matrix for alpha=1e-06\n",
      "Calculated graph-lasso covariance matrix for alpha=1e-05\n",
      "Calculated graph-lasso covariance matrix for alpha=0.0001\n",
      "Calculated graph-lasso covariance matrix for alpha=0.001\n",
      "Calculated graph-lasso covariance matrix for alpha=0.01\n",
      "Calculated graph-lasso covariance matrix for alpha=0.1\n",
      "child\n",
      "Calculated graph-lasso covariance matrix for alpha=1e-08\n",
      "Calculated graph-lasso covariance matrix for alpha=1e-07\n",
      "Calculated graph-lasso covariance matrix for alpha=1e-06\n",
      "Calculated graph-lasso covariance matrix for alpha=1e-05\n",
      "Calculated graph-lasso covariance matrix for alpha=0.0001\n",
      "Calculated graph-lasso covariance matrix for alpha=0.001\n",
      "Calculated graph-lasso covariance matrix for alpha=0.01\n",
      "Calculated graph-lasso covariance matrix for alpha=0.1\n",
      "mom\n",
      "Calculated graph-lasso covariance matrix for alpha=1e-08\n",
      "Calculated graph-lasso covariance matrix for alpha=1e-07\n",
      "Calculated graph-lasso covariance matrix for alpha=1e-06\n",
      "Calculated graph-lasso covariance matrix for alpha=1e-05\n",
      "Calculated graph-lasso covariance matrix for alpha=0.0001\n",
      "Calculated graph-lasso covariance matrix for alpha=0.001\n",
      "Calculated graph-lasso covariance matrix for alpha=0.01\n",
      "Calculated graph-lasso covariance matrix for alpha=0.1\n",
      "Calculated graph-lasso covariance matrix for alpha=1e-08\n",
      "Calculated graph-lasso covariance matrix for alpha=1e-07\n",
      "Calculated graph-lasso covariance matrix for alpha=1e-06\n",
      "Calculated graph-lasso covariance matrix for alpha=1e-05\n",
      "Calculated graph-lasso covariance matrix for alpha=0.0001\n",
      "Calculated graph-lasso covariance matrix for alpha=0.001\n",
      "Calculated graph-lasso covariance matrix for alpha=0.01\n",
      "Calculated graph-lasso covariance matrix for alpha=0.1\n"
     ]
    }
   ],
   "source": [
    "corr_dict={'infant': {}, 'young':{},'child':{},'mom':{}}\n",
    "for key, value in data_dict.items():\n",
    "    print(key)\n",
    "    for k, data in value.items():\n",
    "        Y=data[vars_of_interest[key]]\n",
    "        X=scaley(Y)\n",
    "        lw_cov_, _ =ledoit_wolf(X)\n",
    "        corr_dict[key]['lw_cov_%s'%k]=lw_cov_\n",
    "        corr_dict[key]['lw_prec_%s'%k]=linalg.inv(lw_cov_)"
   ]
  },
  {
   "cell_type": "markdown",
   "metadata": {},
   "source": [
    "After normalizing your input data, the eigenvalues of your empirical covariance matrix still span a relatively large range of about [0-8]. Shrinking this using the sklearn.covariance.shrunk_covariance() function can bring it into a more computationally acceptable range (from what I've read, [0,1] is ideal but slgihtly larger ranges also appear to work).  \n",
    "https://stats.stackexchange.com/questions/172911/graphical-lasso-numerical-problem-not-spd-matrix-result"
   ]
  },
  {
   "cell_type": "code",
   "execution_count": 196,
   "metadata": {},
   "outputs": [],
   "source": [
    "def plotz(dicti):\n",
    "    #covs are a list of plots\n",
    "    n=len(list(dicti.keys()))*2\n",
    "    # Plot the results\n",
    "    plt.figure(figsize=(10, n+2))\n",
    "    plt.subplots_adjust(left=0.02, right=0.98)\n",
    "    # plot the covariances\n",
    "\n",
    "    i=0\n",
    "    for key, value in dicti.items(): \n",
    "        for k,v in value.items():\n",
    "            if \"lw_cov\" in k:\n",
    "                print(k)\n",
    "                vmax = v.max()\n",
    "                plt.subplot(2, 5, i + 1)\n",
    "                plt.imshow(v, interpolation='nearest', vmin=-vmax, vmax=vmax,\n",
    "                           cmap=plt.cm.RdBu_r)\n",
    "                plt.xticks(())\n",
    "                plt.yticks(())\n",
    "                plt.title('%s \\n covariance' %k)\n",
    "\n",
    "\n",
    "                i=i+1\n",
    "\n",
    "    # plot the precisions\n",
    "    i=0\n",
    "    for key, value in dicti.items(): \n",
    "        for k,v in value.items():\n",
    "            if \"lw_prec\" in k:\n",
    "                vmax = .9 * v.max()\n",
    "                ax = plt.subplot(2, 5, i + 6)\n",
    "                plt.imshow(np.ma.masked_equal(v, 0),\n",
    "                           interpolation='nearest', vmin=-vmax, vmax=vmax,\n",
    "                           cmap=plt.cm.RdBu_r)\n",
    "                plt.xticks(())\n",
    "                plt.yticks(())\n",
    "                plt.title('%s \\n precision' % k)\n",
    "                i=i+1\n",
    "                print(i)\n",
    "                if hasattr(ax, 'set_facecolor'):\n",
    "                    ax.set_facecolor('.7')\n",
    "                else:\n",
    "                    ax.set_axis_bgcolor('.7')\n",
    "    plt.show()"
   ]
  },
  {
   "cell_type": "code",
   "execution_count": 197,
   "metadata": {},
   "outputs": [
    {
     "name": "stdout",
     "output_type": "stream",
     "text": [
      "lw_cov_DF_infant_infant_HEI\n",
      "lw_cov_DF_young_young_HEI\n",
      "lw_cov_DF_child_child_HEI\n",
      "lw_cov_Mom_dailyhei0409_HEI\n",
      "lw_cov_Mom_hei0409_HEI\n",
      "1\n",
      "2\n",
      "3\n",
      "4\n",
      "5\n"
     ]
    },
    {
     "data": {
      "image/png": "[encoded data removed]",
      "text/plain": [
       "<Figure size 720x720 with 10 Axes>"
      ]
     },
     "metadata": {},
     "output_type": "display_data"
    }
   ],
   "source": [
    "plotz(corr_dict)"
   ]
  },
  {
   "cell_type": "markdown",
   "metadata": {},
   "source": [
    "Looks like the graphical lasso is not the way to go, going to default to LW"
   ]
  },
  {
   "cell_type": "markdown",
   "metadata": {},
   "source": [
    "## This is making a dictionary with the food options for networkX"
   ]
  },
  {
   "cell_type": "code",
   "execution_count": null,
   "metadata": {},
   "outputs": [],
   "source": [
    "labels = data.index\n",
    "labels_dict = {}\n",
    "n=0\n",
    "for item in labels:\n",
    "    labels_dict[n]=item\n",
    "    n=n+1"
   ]
  },
  {
   "cell_type": "markdown",
   "metadata": {},
   "source": [
    "# Creating the graph object"
   ]
  },
  {
   "cell_type": "code",
   "execution_count": null,
   "metadata": {},
   "outputs": [],
   "source": [
    "G = nx.from_numpy_matrix(data.values)"
   ]
  },
  {
   "cell_type": "markdown",
   "metadata": {},
   "source": [
    "## Check edges"
   ]
  },
  {
   "cell_type": "code",
   "execution_count": null,
   "metadata": {},
   "outputs": [],
   "source": [
    "G.edges(data=True)"
   ]
  },
  {
   "cell_type": "markdown",
   "metadata": {},
   "source": [
    "## Set node attributes with the food data"
   ]
  },
  {
   "cell_type": "code",
   "execution_count": null,
   "metadata": {},
   "outputs": [],
   "source": [
    "nx.set_node_attributes(G,labels_dict,'food')"
   ]
  },
  {
   "cell_type": "markdown",
   "metadata": {},
   "source": [
    "## Check nodes"
   ]
  },
  {
   "cell_type": "code",
   "execution_count": null,
   "metadata": {},
   "outputs": [],
   "source": [
    "G.nodes(data=True)"
   ]
  },
  {
   "cell_type": "markdown",
   "metadata": {},
   "source": [
    "# Make a nice graph\n",
    "The output you made can be made with edge weights using the 'spring' option "
   ]
  },
  {
   "cell_type": "code",
   "execution_count": null,
   "metadata": {},
   "outputs": [],
   "source": [
    "def create_corr_network(G, *argv):\n",
    "    # creates a list for edges and for the weights\n",
    "    # G must be a networkx graph object\n",
    "    # Style = Choice of graph = circle, spring, spectral\n",
    "    \n",
    "    edges,weights = zip(*nx.get_edge_attributes(G,'weight').items())\n",
    "    \n",
    "    \n",
    "    #positions\n",
    "    if len(argv) != 0:\n",
    "        for arg in argv:\n",
    "            print(\"Making %s graph\"%arg)\n",
    "            if arg == \"circle\":\n",
    "                positions=nx.circular_layout(G)\n",
    "            elif arg == \"spring\":\n",
    "                positions=nx.spring_layout(G)\n",
    "            elif arg == \"spectral\":\n",
    "            \n",
    "                positions=nx.spectral_layout(G)\n",
    "    else:\n",
    "        positions=nx.circular_layout(G)\n",
    "\n",
    "    #Figure size\n",
    "    plt.figure(figsize=(15,15))\n",
    "\n",
    "    #draws nodes\n",
    "    nx.draw_networkx_nodes(G,positions,node_color='#DA70D6',\n",
    "                           node_size=500,alpha=0.8)\n",
    "    labels=dict(G.nodes(data=True))\n",
    "    #Styling for labels\n",
    "    \n",
    "    \n",
    "    nx.draw_networkx_labels(G,positions,labels, font_size=8, \n",
    "                            font_family='sans-serif')\n",
    "        \n",
    "    #draws the edges\n",
    "    vmin = min(weights)\n",
    "    vmax = max(weights)\n",
    "    \n",
    "    w=np.array(weights)*10\n",
    "    nx.draw_networkx_edges(G, positions, edge_list=edges, style='solid', width= w, edge_color= weights, \n",
    "                           edge_cmap=plt.cm.seismic, vmin=vmin, vmax=vmax)\n",
    "    \n",
    "    # displays the graph without axis\n",
    "    plt.axis('off')\n",
    "    #saves image\n",
    "    #plt.savefig(\"part1.png\", format=\"PNG\")\n",
    "    sm = plt.cm.ScalarMappable(cmap=plt.cm.seismic, norm=plt.Normalize(vmin = vmin, vmax=vmax))\n",
    "    sm._A = []\n",
    "    plt.colorbar(sm)\n",
    "    plt.show() "
   ]
  },
  {
   "cell_type": "code",
   "execution_count": null,
   "metadata": {},
   "outputs": [],
   "source": [
    "create_corr_network(G, 'spring')"
   ]
  },
  {
   "cell_type": "markdown",
   "metadata": {},
   "source": [
    "# Next steps\n",
    "If you have a regular structure for directories I can write a function that will pick up the csv files and run all of this at once. This is a general tutorial. As we get closer to publication we can make the graphs pretty. The next things to consider are graph metrics. I recommend modularity, participation coefficient, and clustering coefficient. "
   ]
  },
  {
   "cell_type": "code",
   "execution_count": null,
   "metadata": {},
   "outputs": [],
   "source": []
  }
 ],
 "metadata": {
  "kernelspec": {
   "display_name": "Python 3",
   "language": "python",
   "name": "python3"
  },
  "language_info": {
   "codemirror_mode": {
    "name": "ipython",
    "version": 3
   },
   "file_extension": ".py",
   "mimetype": "text/x-python",
   "name": "python",
   "nbconvert_exporter": "python",
   "pygments_lexer": "ipython3",
   "version": "3.6.5"
  }
 },
 "nbformat": 4,
 "nbformat_minor": 4
}
